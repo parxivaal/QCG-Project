{
 "cells": [
  {
   "cell_type": "code",
   "execution_count": 1,
   "id": "c20d225a-8107-4e86-a9a6-2314d4811714",
   "metadata": {},
   "outputs": [
    {
     "name": "stderr",
     "output_type": "stream",
     "text": [
      "<frozen importlib._bootstrap>:219: RuntimeWarning: scipy._lib.messagestream.MessageStream size changed, may indicate binary incompatibility. Expected 56 from C header, got 64 from PyObject\n"
     ]
    }
   ],
   "source": [
    "import numpy as np\n",
    "\n",
    "# Importing standard Qiskit libraries\n",
    "from qiskit import QuantumCircuit, transpile, Aer, IBMQ\n",
    "from qiskit.tools.jupyter import *\n",
    "from qiskit.visualization import *\n",
    "from ibm_quantum_widgets import *\n",
    "from qiskit.providers.aer import QasmSimulator\n",
    "\n",
    "# Loading your IBM Quantum account(s)\n",
    "provider = IBMQ.load_account()"
   ]
  },
  {
   "cell_type": "code",
   "execution_count": 2,
   "id": "02f4d62b-ad92-4f5c-99a9-1d41ceb3f764",
   "metadata": {},
   "outputs": [],
   "source": [
    "import numpy as np\n",
    "import matplotlib.pyplot as plt\n",
    "from qiskit.quantum_info import Statevector, Operator, DensityMatrix, ScalarOp\n",
    "from qiskit import QuantumCircuit, QuantumRegister, assemble, Aer, transpile\n",
    "from qiskit.tools.jupyter import *\n",
    "from qiskit.tools.monitor import job_monitor\n",
    "from qiskit.visualization import plot_histogram"
   ]
  },
  {
   "cell_type": "code",
   "execution_count": 3,
   "id": "3ebf80d1-6b2f-4894-8806-f9dc79f3390c",
   "metadata": {},
   "outputs": [],
   "source": [
    "def Query(a, b, c, d, e):\n",
    "    Query = ((not c or (d and (not e)))and a and b)\n",
    "    if Query == True:\n",
    "        Query = 1.0\n",
    "    else :\n",
    "        Query = 0.0\n",
    "    return Query\n",
    "\n",
    "n = 5\n",
    "interpret = int(np.sqrt(n))"
   ]
  },
  {
   "cell_type": "code",
   "execution_count": 4,
   "id": "bedbe2b6-0c84-4e45-8fcb-be9216a0a03e",
   "metadata": {},
   "outputs": [
    {
     "name": "stdout",
     "output_type": "stream",
     "text": [
      "[[ 1.  0.  0. ...  0.  0.  0.]\n",
      " [ 0.  1.  0. ...  0.  0.  0.]\n",
      " [ 0.  0.  1. ...  0.  0.  0.]\n",
      " ...\n",
      " [ 0.  0.  0. ...  1.  0.  0.]\n",
      " [ 0.  0.  0. ...  0. -1.  0.]\n",
      " [ 0.  0.  0. ...  0.  0.  1.]]\n"
     ]
    }
   ],
   "source": [
    "#Creating a matrix that marks the required elements\n",
    "matrix = np.eye(32,32)    \n",
    "for a in [0,1]:\n",
    "    for b in [0,1]:\n",
    "        for c in [0,1]:\n",
    "            for d in [0,1]:\n",
    "                for e in [0,1]:\n",
    "                    z = (2**4)*a + (2**3)*b + (2**2)*c + (2**1)*d + e\n",
    "                    k = Query(a,b,c,d,e)\n",
    "                    if k == 1.0:\n",
    "                        matrix[z,z] = -1.0\n",
    "                    else:\n",
    "                        matrix[z,z] = 1.0\n",
    "print(matrix)"
   ]
  },
  {
   "cell_type": "code",
   "execution_count": 5,
   "id": "bf3ba143-c205-4a5d-bb78-450b0aaec6a7",
   "metadata": {},
   "outputs": [
    {
     "data": {
      "image/png": "[encoded data removed]",
      "text/plain": [
       "<Figure size 206.997x325.08 with 1 Axes>"
      ]
     },
     "execution_count": 5,
     "metadata": {},
     "output_type": "execute_result"
    }
   ],
   "source": [
    "#Creating Oracle\n",
    "oracle = QuantumCircuit(5, name = \"Oracle\")\n",
    "oracle.unitary(matrix, [0,1,2,3,4], label=\"Oracle\")\n",
    "oracle.draw()"
   ]
  },
  {
   "cell_type": "code",
   "execution_count": 6,
   "id": "5fbda50d-40f6-4609-8ab8-23e731551f50",
   "metadata": {},
   "outputs": [
    {
     "data": {
      "image/png": "[encoded data removed]",
      "text/plain": [
       "<Figure size 628.397x325.08 with 1 Axes>"
      ]
     },
     "execution_count": 6,
     "metadata": {},
     "output_type": "execute_result"
    }
   ],
   "source": [
    "#Creating Diffuser\n",
    "reflec = QuantumCircuit(5, name = \"Diffuser\")\n",
    "reflec.h([0,1,2,3,4])\n",
    "reflec.x([0,1,2,3,4])\n",
    "reflec.barrier()\n",
    "reflec.h(4)\n",
    "reflec.mct([0,1,2,3],4)\n",
    "reflec.h(4)\n",
    "reflec.barrier()\n",
    "reflec.x([0,1,2,3,4])\n",
    "reflec.h([0,1,2,3,4])\n",
    "reflec.draw()"
   ]
  },
  {
   "cell_type": "code",
   "execution_count": 7,
   "id": "8140cb53-4ed9-44d5-93aa-59a53e7ae5b1",
   "metadata": {},
   "outputs": [
    {
     "name": "stderr",
     "output_type": "stream",
     "text": [
      "Simulation failed and returned the following error message:\n",
      "ERROR:  [Experiment 0] Circuit circuit-82 contains invalid instructions {\"gates\": {Oracle, Diffuser}} for \"statevector\" method.\n"
     ]
    },
    {
     "data": {
      "image/png": "[encoded data removed]",
      "text/plain": [
       "<Figure size 748.797x325.08 with 1 Axes>"
      ]
     },
     "execution_count": 7,
     "metadata": {},
     "output_type": "execute_result"
    }
   ],
   "source": [
    "qc = QuantumCircuit(5)\n",
    "qc.h([0,1,2,3,4])\n",
    "qc.barrier()\n",
    "for i in range(interpret):\n",
    "    qc.append(oracle, [0,1,2,3,4])\n",
    "    qc.append(reflec, [0,1,2,3,4])\n",
    "qc.save_statevector()\n",
    "qobj1 = assemble(qc)\n",
    "sim = Aer.get_backend('aer_simulator')\n",
    "result = sim.run(qobj1).result()\n",
    "qc.draw()"
   ]
  },
  {
   "cell_type": "code",
   "execution_count": 10,
   "id": "cc4f0dc4-23a8-44d7-a9fa-a71716e2e261",
   "metadata": {},
   "outputs": [],
   "source": [
    "sim = Aer.get_backend('aer_simulator')\n",
    "qct = transpile(qc, sim)\n",
    "qobj = assemble(qct)\n",
    "results = sim.run(qobj).result()\n",
    "state = results.get_statevector()"
   ]
  },
  {
   "cell_type": "code",
   "execution_count": 11,
   "id": "b4460f9d-59d5-4393-af0f-2fad8d2773a8",
   "metadata": {},
   "outputs": [
    {
     "data": {
      "image/png": "[encoded data removed]",
      "text/plain": [
       "<Figure size 504x360 with 1 Axes>"
      ]
     },
     "execution_count": 11,
     "metadata": {},
     "output_type": "execute_result"
    }
   ],
   "source": [
    "counts = results.get_counts()\n",
    "plot_histogram(counts)"
   ]
  }
 ],
 "metadata": {
  "kernelspec": {
   "display_name": "Python 3 (ipykernel)",
   "language": "python",
   "name": "python3"
  },
  "language_info": {
   "codemirror_mode": {
    "name": "ipython",
    "version": 3
   },
   "file_extension": ".py",
   "mimetype": "text/x-python",
   "name": "python",
   "nbconvert_exporter": "python",
   "pygments_lexer": "ipython3",
   "version": "3.8.13"
  },
  "widgets": {
   "application/vnd.jupyter.widget-state+json": {
    "state": {
     "00b53617bfc34eb397d50c4dfa16fbec": {
      "model_module": "@jupyter-widgets/base",
      "model_module_version": "1.2.0",
      "model_name": "LayoutModel",
      "state": {
       "width": "145px"
      }
     },
     "0d580c3a760e46f8bbf113575950da9a": {
      "model_module": "@jupyter-widgets/controls",
      "model_module_version": "1.5.0",
      "model_name": "ButtonStyleModel",
      "state": {}
     },
     "12d61c2ef1eb4523ada41a2d6db730ec": {
      "model_module": "@jupyter-widgets/base",
      "model_module_version": "1.2.0",
      "model_name": "LayoutModel",
      "state": {}
     },
     "1e8747b04cf94c00906ddd17bdfb8bcc": {
      "model_module": "@jupyter-widgets/controls",
      "model_module_version": "1.5.0",
      "model_name": "GridBoxModel",
      "state": {
       "children": [
        "IPY_MODEL_28193710b0904020a27c22c465973207"
       ],
       "layout": "IPY_MODEL_85af9ced839d4eafb31d3d7e8b9923bd"
      }
     },
     "1f5ea21651dd417795bca8c21bfffde2": {
      "model_module": "@jupyter-widgets/controls",
      "model_module_version": "1.5.0",
      "model_name": "HTMLModel",
      "state": {
       "layout": "IPY_MODEL_12d61c2ef1eb4523ada41a2d6db730ec",
       "style": "IPY_MODEL_8e2ee5c2c66646308f2c23e8132cea3a",
       "value": "<h5>Message</h5>"
      }
     },
     "24cefbc958b04d13a127d95ec0402ada": {
      "model_module": "@jupyter-widgets/base",
      "model_module_version": "1.2.0",
      "model_name": "LayoutModel",
      "state": {
       "grid_area": "right",
       "padding": "0px 0px 0px 0px",
       "width": "70px"
      }
     },
     "257905c1424b40789df2c7da84766613": {
      "model_module": "@jupyter-widgets/controls",
      "model_module_version": "1.5.0",
      "model_name": "HTMLModel",
      "state": {
       "layout": "IPY_MODEL_fe82c0cbf8cd4516ba9f8661ccc287a4",
       "style": "IPY_MODEL_b6ac01ae543c4e45b2a38002163abf4e",
       "value": "<h5>Job ID</h5>"
      }
     },
     "26a4d1635f2b45a78b72074292475355": {
      "model_module": "@jupyter-widgets/controls",
      "model_module_version": "1.5.0",
      "model_name": "HTMLModel",
      "state": {
       "layout": "IPY_MODEL_cb2e64c8cbd04cffb1e0d9e8f69b98a4",
       "style": "IPY_MODEL_bacb42fd37bc48c291fe39054691c111",
       "value": "<p style='font-family: IBM Plex Sans, Arial, Helvetica, sans-serif; font-size: 20px; font-weight: medium;'>Circuit Properties</p>"
      }
     },
     "28193710b0904020a27c22c465973207": {
      "model_module": "@jupyter-widgets/controls",
      "model_module_version": "1.5.0",
      "model_name": "ButtonModel",
      "state": {
       "button_style": "primary",
       "description": "Clear",
       "layout": "IPY_MODEL_24cefbc958b04d13a127d95ec0402ada",
       "style": "IPY_MODEL_0d580c3a760e46f8bbf113575950da9a"
      }
     },
     "3d6040193b4f43469b9b7eec3dfd1a7f": {
      "model_module": "@jupyter-widgets/controls",
      "model_module_version": "1.5.0",
      "model_name": "HTMLModel",
      "state": {
       "layout": "IPY_MODEL_a7e2bc359623436088633bd7a5fdbe08",
       "style": "IPY_MODEL_6d9f4e5c64e241958da40c4738832da3",
       "value": "<h5>Queue</h5>"
      }
     },
     "587c8342d4b6491dbc57a50754adeb22": {
      "model_module": "@jupyter-widgets/controls",
      "model_module_version": "1.5.0",
      "model_name": "DescriptionStyleModel",
      "state": {
       "description_width": ""
      }
     },
     "601203ebbeac4e72902d35c413b20a17": {
      "model_module": "@jupyter-widgets/controls",
      "model_module_version": "1.5.0",
      "model_name": "DescriptionStyleModel",
      "state": {
       "description_width": ""
      }
     },
     "6684b70767a24f4282b23a8b13d4783b": {
      "model_module": "@jupyter-widgets/base",
      "model_module_version": "1.2.0",
      "model_name": "LayoutModel",
      "state": {
       "margin": "0px 0px 0px 37px",
       "width": "600px"
      }
     },
     "6d9f4e5c64e241958da40c4738832da3": {
      "model_module": "@jupyter-widgets/controls",
      "model_module_version": "1.5.0",
      "model_name": "DescriptionStyleModel",
      "state": {
       "description_width": ""
      }
     },
     "85af9ced839d4eafb31d3d7e8b9923bd": {
      "model_module": "@jupyter-widgets/base",
      "model_module_version": "1.2.0",
      "model_name": "LayoutModel",
      "state": {
       "grid_template_areas": "\n                                       \". . . . right \"\n                                        ",
       "grid_template_columns": "20% 20% 20% 20% 20%",
       "width": "100%"
      }
     },
     "8e2ee5c2c66646308f2c23e8132cea3a": {
      "model_module": "@jupyter-widgets/controls",
      "model_module_version": "1.5.0",
      "model_name": "DescriptionStyleModel",
      "state": {
       "description_width": ""
      }
     },
     "9453d297ded2446ab6c8c14426089635": {
      "model_module": "@jupyter-widgets/controls",
      "model_module_version": "1.5.0",
      "model_name": "HTMLModel",
      "state": {
       "layout": "IPY_MODEL_d9f7c9de3a8f4d8aacdf2288b01f668d",
       "style": "IPY_MODEL_587c8342d4b6491dbc57a50754adeb22",
       "value": "<h5>Status</h5>"
      }
     },
     "a7e2bc359623436088633bd7a5fdbe08": {
      "model_module": "@jupyter-widgets/base",
      "model_module_version": "1.2.0",
      "model_name": "LayoutModel",
      "state": {
       "width": "70px"
      }
     },
     "b6ac01ae543c4e45b2a38002163abf4e": {
      "model_module": "@jupyter-widgets/controls",
      "model_module_version": "1.5.0",
      "model_name": "DescriptionStyleModel",
      "state": {
       "description_width": ""
      }
     },
     "bacb42fd37bc48c291fe39054691c111": {
      "model_module": "@jupyter-widgets/controls",
      "model_module_version": "1.5.0",
      "model_name": "DescriptionStyleModel",
      "state": {
       "description_width": ""
      }
     },
     "cb2e64c8cbd04cffb1e0d9e8f69b98a4": {
      "model_module": "@jupyter-widgets/base",
      "model_module_version": "1.2.0",
      "model_name": "LayoutModel",
      "state": {
       "margin": "0px 0px 10px 0px"
      }
     },
     "d9f7c9de3a8f4d8aacdf2288b01f668d": {
      "model_module": "@jupyter-widgets/base",
      "model_module_version": "1.2.0",
      "model_name": "LayoutModel",
      "state": {
       "width": "95px"
      }
     },
     "eaef39b2fbc24439bf9ef9040d5ae4fe": {
      "model_module": "@jupyter-widgets/controls",
      "model_module_version": "1.5.0",
      "model_name": "HTMLModel",
      "state": {
       "layout": "IPY_MODEL_00b53617bfc34eb397d50c4dfa16fbec",
       "style": "IPY_MODEL_601203ebbeac4e72902d35c413b20a17",
       "value": "<h5>Backend</h5>"
      }
     },
     "fb0c721a302046f28d931a90a2a44edf": {
      "model_module": "@jupyter-widgets/controls",
      "model_module_version": "1.5.0",
      "model_name": "HBoxModel",
      "state": {
       "children": [
        "IPY_MODEL_257905c1424b40789df2c7da84766613",
        "IPY_MODEL_eaef39b2fbc24439bf9ef9040d5ae4fe",
        "IPY_MODEL_9453d297ded2446ab6c8c14426089635",
        "IPY_MODEL_3d6040193b4f43469b9b7eec3dfd1a7f",
        "IPY_MODEL_1f5ea21651dd417795bca8c21bfffde2"
       ],
       "layout": "IPY_MODEL_6684b70767a24f4282b23a8b13d4783b"
      }
     },
     "fe82c0cbf8cd4516ba9f8661ccc287a4": {
      "model_module": "@jupyter-widgets/base",
      "model_module_version": "1.2.0",
      "model_name": "LayoutModel",
      "state": {
       "width": "190px"
      }
     }
    },
    "version_major": 2,
    "version_minor": 0
   }
  }
 },
 "nbformat": 4,
 "nbformat_minor": 5
}
